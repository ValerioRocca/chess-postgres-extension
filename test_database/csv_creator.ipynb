{
 "cells": [
  {
   "cell_type": "code",
   "execution_count": 22,
   "metadata": {},
   "outputs": [],
   "source": [
    "import csv\n",
    "import os\n",
    "import chess.pgn\n",
    "import pandas as pd\n",
    "import random"
   ]
  },
  {
   "cell_type": "markdown",
   "metadata": {},
   "source": [
    "Part 1: create 100% database"
   ]
  },
  {
   "cell_type": "code",
   "execution_count": 23,
   "metadata": {},
   "outputs": [],
   "source": [
    "def extract_game_info(pgn_file_path):\n",
    "    # Create a list to store game information\n",
    "    game_info_list = []\n",
    "\n",
    "    # Get the filename (without extension) from the provided path\n",
    "    player_name = os.path.splitext(os.path.basename(pgn_file_path))[0]\n",
    "\n",
    "    # Open the PGN file\n",
    "    with open(pgn_file_path, 'r') as pgn_file:\n",
    "        game = chess.pgn.read_game(pgn_file)\n",
    "        while game is not None:\n",
    "            # Extract relevant game information\n",
    "            site = game.headers.get('Site', 'N/A')\n",
    "\n",
    "            # Initialize a chess board to convert moves to SAN notation\n",
    "            board = game.board()\n",
    "            san_moves = []\n",
    "\n",
    "            # Initialize the move number\n",
    "            move_number = 1\n",
    "\n",
    "            for move in game.mainline_moves():\n",
    "                if board.turn:  # Check if it's a white move\n",
    "                    san_move = f'{move_number}. {board.san(move)}'\n",
    "                else:\n",
    "                    san_move = board.san(move)\n",
    "                    move_number += 1\n",
    "                san_moves.append(san_move)\n",
    "                board.push(move)\n",
    "\n",
    "            # Join the SAN moves into a single string\n",
    "            san_moves_str = ' '.join(san_moves)\n",
    "\n",
    "            game_info_list.append({'notation': san_moves_str, 'player': player_name, 'game_site': site})\n",
    "\n",
    "            game = chess.pgn.read_game(pgn_file)\n",
    "\n",
    "    return game_info_list\n",
    "\n",
    "def append_game_info_to_csv(game_info, output_csv_file):\n",
    "    # Check if the output CSV file already exists\n",
    "    file_exists = os.path.isfile(output_csv_file)\n",
    "\n",
    "    with open(output_csv_file, 'a', newline='') as csv_file:\n",
    "        fieldnames = ['notation', 'player', 'game_site']\n",
    "        writer = csv.DictWriter(csv_file, fieldnames=fieldnames)\n",
    "\n",
    "        if not file_exists:\n",
    "            writer.writeheader()\n",
    "\n",
    "        writer.writerows(game_info)\n",
    "\n",
    "def process_pgn_file(pgn_file_path, output_csv_file):\n",
    "    game_info = extract_game_info(pgn_file_path)\n",
    "    append_game_info_to_csv(game_info, output_csv_file)\n",
    "    \n",
    "    \n",
    "def pgn_iterator(folder_path, output_csv_file):\n",
    "    \n",
    "    files = os.listdir(folder_path)\n",
    "    n = 0\n",
    "    count = 0\n",
    "    print(\"Progress: 0%\")\n",
    "    \n",
    "    # Obtain number of .pgn files (for progress computation)\n",
    "    for file in files:\n",
    "        # Check if the file has a .pgn extension\n",
    "        if file.endswith('.pgn'):\n",
    "            n += 1\n",
    "        \n",
    "    for file in files:\n",
    "        # Check if the file has a .pgn extension\n",
    "        if file.endswith('.pgn'):\n",
    "            # Construct the full path to the file\n",
    "            file_path = os.path.join(folder_path, file)\n",
    "            process_pgn_file(file_path, output_csv_file)\n",
    "            count += 1\n",
    "            print(f\"Progress: {round(count*100/n,1)}%\")"
   ]
  },
  {
   "cell_type": "code",
   "execution_count": 24,
   "metadata": {},
   "outputs": [
    {
     "name": "stdout",
     "output_type": "stream",
     "text": [
      "Progress: 0%\n",
      "Progress: 4.5%\n",
      "Progress: 9.1%\n",
      "Progress: 13.6%\n",
      "Progress: 18.2%\n",
      "Progress: 22.7%\n",
      "Progress: 27.3%\n",
      "Progress: 31.8%\n",
      "Progress: 36.4%\n",
      "Progress: 40.9%\n",
      "Progress: 45.5%\n",
      "Progress: 50.0%\n",
      "Progress: 54.5%\n",
      "Progress: 59.1%\n",
      "Progress: 63.6%\n",
      "Progress: 68.2%\n",
      "Progress: 72.7%\n",
      "Progress: 77.3%\n",
      "Progress: 81.8%\n",
      "Progress: 86.4%\n",
      "Progress: 90.9%\n",
      "Progress: 95.5%\n",
      "Progress: 100.0%\n"
     ]
    }
   ],
   "source": [
    "output_csv = 'C:\\\\Users\\\\valer\\\\Desktop\\\\DBSA\\\\project\\\\chess-postgres-extension\\\\test_database\\\\csv_games_100_temp.csv'\n",
    "pgn_path = 'C:\\\\Users\\\\valer\\\\Desktop\\\\DBSA\\\\project\\\\chess-postgres-extension\\\\test_database'\n",
    "\n",
    "pgn_iterator(pgn_path, output_csv)"
   ]
  },
  {
   "cell_type": "markdown",
   "metadata": {},
   "source": [
    "Part 2: repeat other 49 times the number of rows"
   ]
  },
  {
   "cell_type": "code",
   "execution_count": 25,
   "metadata": {},
   "outputs": [],
   "source": [
    "def repeat_rows(input_file, output_file):\n",
    "\n",
    "    with open(input_file, 'r', newline='') as infile:\n",
    "        reader = csv.reader(infile)\n",
    "        rows = list(reader)\n",
    "        \n",
    "    repeated_list = [rows[0]]\n",
    "\n",
    "    for row in rows[1:]:\n",
    "        i = 0\n",
    "        while i != 48:\n",
    "            repeated_list.append(row)\n",
    "            i+=1\n",
    "\n",
    "    with open(output_file, 'w', newline='') as outfile:\n",
    "        writer = csv.writer(outfile)\n",
    "        writer.writerows(repeated_list)"
   ]
  },
  {
   "cell_type": "code",
   "execution_count": 26,
   "metadata": {},
   "outputs": [
    {
     "name": "stdout",
     "output_type": "stream",
     "text": [
      "Repeat rows started\n",
      "Repeat rows ended\n"
     ]
    }
   ],
   "source": [
    "input_csv = 'C:\\\\Users\\\\valer\\\\Desktop\\\\DBSA\\\\project\\\\chess-postgres-extension\\\\test_database\\\\csv_games_100_temp.csv'  # Replace with the actual input CSV file\n",
    "output_csv = 'C:\\\\Users\\\\valer\\\\Desktop\\\\DBSA\\\\project\\\\chess-postgres-extension\\\\test_database\\\\csv_games_100.csv'  # Replace with the desired output CSV file\n",
    "\n",
    "print(\"Repeat rows started\")\n",
    "repeat_rows(input_csv, output_csv)\n",
    "print(\"Repeat rows ended\")"
   ]
  },
  {
   "cell_type": "markdown",
   "metadata": {},
   "source": [
    "Part 3: create smaller DBs"
   ]
  },
  {
   "cell_type": "code",
   "execution_count": 27,
   "metadata": {},
   "outputs": [],
   "source": [
    "# Load the CSV file into a DataFrame\n",
    "df = pd.read_csv('C:\\\\Users\\\\valer\\\\Desktop\\\\DBSA\\\\project\\\\chess-postgres-extension\\\\test_database\\\\csv_games_100.csv')\n",
    "\n",
    "# Calculate the number of rows to remove\n",
    "n_rows_to_remove_50 = int(len(df) * 0.50)\n",
    "n_rows_to_remove_25 = int(len(df) * 0.75)\n",
    "n_rows_to_remove_10 = int(len(df) * 0.90)\n",
    "\n",
    "# Create a list of random row indices to remove\n",
    "rows_to_remove_50 = random.sample(range(len(df)), n_rows_to_remove_50)\n",
    "rows_to_remove_25 = random.sample(range(len(df)), n_rows_to_remove_25)\n",
    "rows_to_remove_10 = random.sample(range(len(df)), n_rows_to_remove_10)\n",
    "\n",
    "# Drop the selected rows from the DataFrame\n",
    "df_50 = df.drop(rows_to_remove_50)\n",
    "df_25 = df.drop(rows_to_remove_25)\n",
    "df_10 = df.drop(rows_to_remove_10)\n",
    "\n",
    "# Save the modified DataFrame to a new CSV file\n",
    "df_50.to_csv('C:\\\\Users\\\\valer\\\\Desktop\\\\DBSA\\\\project\\\\chess-postgres-extension\\\\test_database\\\\csv_games_50.csv', index=False)\n",
    "df_25.to_csv('C:\\\\Users\\\\valer\\\\Desktop\\\\DBSA\\\\project\\\\chess-postgres-extension\\\\test_database\\\\csv_games_25.csv', index=False)\n",
    "df_10.to_csv('C:\\\\Users\\\\valer\\\\Desktop\\\\DBSA\\\\project\\\\chess-postgres-extension\\\\test_database\\\\csv_games_10.csv', index=False)"
   ]
  }
 ],
 "metadata": {
  "kernelspec": {
   "display_name": "Python 3",
   "language": "python",
   "name": "python3"
  },
  "language_info": {
   "codemirror_mode": {
    "name": "ipython",
    "version": 3
   },
   "file_extension": ".py",
   "mimetype": "text/x-python",
   "name": "python",
   "nbconvert_exporter": "python",
   "pygments_lexer": "ipython3",
   "version": "3.11.3"
  }
 },
 "nbformat": 4,
 "nbformat_minor": 2
}
