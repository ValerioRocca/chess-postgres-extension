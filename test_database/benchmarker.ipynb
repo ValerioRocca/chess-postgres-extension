{
 "cells": [
  {
   "cell_type": "code",
   "execution_count": 6,
   "metadata": {},
   "outputs": [],
   "source": [
    "import psycopg2\n",
    "from time import process_time"
   ]
  },
  {
   "cell_type": "code",
   "execution_count": 7,
   "metadata": {},
   "outputs": [],
   "source": [
    "# To connect to a Postgres DB\n",
    "\n",
    "conn = psycopg2.connect(\n",
    "    host=\"localhost\",\n",
    "    #port=\"your_port\",\n",
    "    database=\"chess\",\n",
    "    user=\"postgres\",\n",
    "    password=\"postgres\"\n",
    ")\n",
    "\n",
    "cursor = conn.cursor()\n",
    "\n",
    "# List to store execution times\n",
    "times = []"
   ]
  },
  {
   "cell_type": "code",
   "execution_count": 8,
   "metadata": {},
   "outputs": [],
   "source": [
    "# Read the SQL file\n",
    "with open('queries.sql', 'r') as file:\n",
    "    sql_content = file.read()\n",
    "\n",
    "# Split the SQL content into separate queries\n",
    "sql_queries = sql_content.split(';')\n",
    "\n",
    "# Remove empty strings or whitespace-only queries\n",
    "sql_queries = [query.strip() for query in sql_queries if query.strip()]"
   ]
  },
  {
   "cell_type": "code",
   "execution_count": 9,
   "metadata": {},
   "outputs": [],
   "source": [
    "sql_filename = 'db_creation_and_load.sql'\n",
    "with open(sql_filename, 'r') as file:\n",
    "    sql_query = file.read()\n",
    "cursor.execute(sql_query)"
   ]
  },
  {
   "cell_type": "code",
   "execution_count": 10,
   "metadata": {},
   "outputs": [],
   "source": [
    "for query in sql_queries:\n",
    "    time_start = process_time()\n",
    "    cursor.execute(query)\n",
    "    time_end = process_time()\n",
    "    result=time_end - time_start\n",
    "    times.append(result)\n",
    "    "
   ]
  },
  {
   "cell_type": "code",
   "execution_count": 11,
   "metadata": {},
   "outputs": [],
   "source": [
    "# Read the SQL file\n",
    "with open('queries_2.sql', 'r') as file:\n",
    "    sql_content = file.read()\n",
    "\n",
    "# Split the SQL content into separate queries\n",
    "sql_queries_2 = sql_content.split(';')\n",
    "\n",
    "# Remove empty strings or whitespace-only queries\n",
    "sql_queries_2 = [query.strip() for query in sql_queries if query.strip()]"
   ]
  },
  {
   "cell_type": "code",
   "execution_count": 12,
   "metadata": {},
   "outputs": [],
   "source": [
    "for query in sql_queries_2:\n",
    "    time_start = process_time()\n",
    "    cursor.execute(query)\n",
    "    time_end = process_time()\n",
    "    result=time_end - time_start\n",
    "    times.append(result)"
   ]
  },
  {
   "cell_type": "code",
   "execution_count": 13,
   "metadata": {},
   "outputs": [
    {
     "data": {
      "text/plain": [
       "[0.003132180000000151,\n",
       " 0.0004986599999998731,\n",
       " 0.00023679699999989978,\n",
       " 0.00014872900000018063,\n",
       " 0.00024438199999998744,\n",
       " 0.00015700400000007164,\n",
       " 0.0001728609999998021,\n",
       " 0.0001468500000001427,\n",
       " 0.00013696499999982237,\n",
       " 0.00014894200000004076,\n",
       " 0.0001648389999999722,\n",
       " 0.00014705000000025947,\n",
       " 0.00343913000000029,\n",
       " 0.001528626000000255,\n",
       " 0.0007730229999998173,\n",
       " 0.0004162160000000803,\n",
       " 0.003515939999999773,\n",
       " 0.0004798810000004039,\n",
       " 0.00026321400000028916,\n",
       " 0.0001863110000002166,\n",
       " 0.00037832600000031746,\n",
       " 0.00020346500000023582,\n",
       " 0.0001723920000000767,\n",
       " 0.0001447689999998225,\n",
       " 0.00014121399999966755,\n",
       " 0.00014164899999968839,\n",
       " 0.00015168500000006802,\n",
       " 0.00013882199999981637,\n",
       " 0.003674102000000179,\n",
       " 0.0015831510000001714,\n",
       " 0.000908941000000052,\n",
       " 0.0007158569999998754]"
      ]
     },
     "execution_count": 13,
     "metadata": {},
     "output_type": "execute_result"
    }
   ],
   "source": [
    "times"
   ]
  }
 ],
 "metadata": {
  "kernelspec": {
   "display_name": "Python 3",
   "language": "python",
   "name": "python3"
  },
  "language_info": {
   "codemirror_mode": {
    "name": "ipython",
    "version": 3
   },
   "file_extension": ".py",
   "mimetype": "text/x-python",
   "name": "python",
   "nbconvert_exporter": "python",
   "pygments_lexer": "ipython3",
   "version": "3.10.12"
  }
 },
 "nbformat": 4,
 "nbformat_minor": 2
}
