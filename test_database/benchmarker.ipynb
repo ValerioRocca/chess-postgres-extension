{
 "cells": [
  {
   "cell_type": "code",
   "execution_count": 19,
   "metadata": {},
   "outputs": [],
   "source": [
    "import psycopg2\n",
    "from time import process_time"
   ]
  },
  {
   "cell_type": "code",
   "execution_count": 20,
   "metadata": {},
   "outputs": [],
   "source": [
    "# To connect to a Postgres DB\n",
    "\n",
    "conn = psycopg2.connect(\n",
    "    host=\"localhost\",\n",
    "    #port=\"your_port\",\n",
    "    database=\"test\",\n",
    "    user=\"postgres\",\n",
    "    password=\"postgres\"\n",
    ")\n",
    "\n",
    "cursor = conn.cursor()\n",
    "\n",
    "# List to store execution times\n",
    "times = []"
   ]
  },
  {
   "cell_type": "code",
   "execution_count": 21,
   "metadata": {},
   "outputs": [],
   "source": [
    "# Read the SQL file\n",
    "with open('queries.sql', 'r') as file:\n",
    "    sql_content = file.read()\n",
    "\n",
    "# Split the SQL content into separate queries\n",
    "sql_queries = sql_content.split(';')\n",
    "\n",
    "# Remove empty strings or whitespace-only queries\n",
    "sql_queries = [query.strip() for query in sql_queries if query.strip()]"
   ]
  },
  {
   "cell_type": "code",
   "execution_count": 22,
   "metadata": {},
   "outputs": [],
   "source": [
    "sql_filename = 'db_creation_and_load.sql'\n",
    "with open(sql_filename, 'r') as file:\n",
    "    sql_query = file.read()\n",
    "cursor.execute(sql_query)"
   ]
  },
  {
   "cell_type": "code",
   "execution_count": 23,
   "metadata": {},
   "outputs": [
    {
     "name": "stdout",
     "output_type": "stream",
     "text": [
      "SELECT getBoard(notation, 3)\n",
      "FROM games_100\n",
      "WHERE game_site = 'Palma de Mallorca'\n",
      "SELECT getBoard(notation, 3)\n",
      "FROM games_20\n",
      "WHERE  game_site = 'Palma de Mallorca'\n",
      "select getBoard(notation, 3)\n",
      "FROM games_5\n",
      "WHERE game_site = 'Palma de Mallorca'\n",
      "select getBoard(notation, 3)\n",
      "FROM games_1\n",
      "WHERE  game_site = 'Palma de Mallorca'\n",
      "--Query 2\n",
      "--Return the games played in Leningrad and remove its opening move\n",
      "\n",
      "SELECT getFirstMoves(notation, 1)\n",
      "FROM games_100\n",
      "WHERE game_site = 'Leningrad'\n",
      "SELECT getFirstMoves(notation, 1)\n",
      "FROM games_20\n",
      "WHERE game_site = 'Leningrad'\n",
      "SELECT getFirstMoves(notation, 1)\n",
      "FROM games_5\n",
      "WHERE game_site = 'Leningrad'\n",
      "SELECT getFirstMoves(notation, 1)\n",
      "FROM games_1\n",
      "WHERE game_site = 'Leningrad'\n",
      "-- Query 3\n",
      "-- Count the number of games that start with move \"1.e4\"\n",
      "\n",
      "\n",
      "SELECT count(*)\n",
      "FROM games_1\n",
      "WHERE hasOpening(notation, '1.e4 '::san)\n"
     ]
    },
    {
     "ename": "OperationalError",
     "evalue": "SSL SYSCALL error: EOF detected\n",
     "output_type": "error",
     "traceback": [
      "\u001b[0;31m---------------------------------------------------------------------------\u001b[0m",
      "\u001b[0;31mOperationalError\u001b[0m                          Traceback (most recent call last)",
      "Cell \u001b[0;32mIn[23], line 4\u001b[0m\n\u001b[1;32m      2\u001b[0m \u001b[38;5;28mprint\u001b[39m(query)\n\u001b[1;32m      3\u001b[0m time_start \u001b[38;5;241m=\u001b[39m process_time()\n\u001b[0;32m----> 4\u001b[0m \u001b[43mcursor\u001b[49m\u001b[38;5;241;43m.\u001b[39;49m\u001b[43mexecute\u001b[49m\u001b[43m(\u001b[49m\u001b[43mquery\u001b[49m\u001b[43m)\u001b[49m\n\u001b[1;32m      5\u001b[0m time_end \u001b[38;5;241m=\u001b[39m process_time()\n\u001b[1;32m      6\u001b[0m result\u001b[38;5;241m=\u001b[39mtime_end \u001b[38;5;241m-\u001b[39m time_start\n",
      "\u001b[0;31mOperationalError\u001b[0m: SSL SYSCALL error: EOF detected\n"
     ]
    }
   ],
   "source": [
    "for query in sql_queries:\n",
    "    print(query)\n",
    "    time_start = process_time()\n",
    "    cursor.execute(query)\n",
    "    time_end = process_time()\n",
    "    result=time_end - time_start\n",
    "    times.append(result)\n",
    "    "
   ]
  },
  {
   "cell_type": "code",
   "execution_count": null,
   "metadata": {},
   "outputs": [],
   "source": [
    "# Read the SQL file\n",
    "with open('queries_2.sql', 'r') as file:\n",
    "    sql_content = file.read()\n",
    "\n",
    "# Split the SQL content into separate queries\n",
    "sql_queries_2 = sql_content.split(';')\n",
    "\n",
    "# Remove empty strings or whitespace-only queries\n",
    "sql_queries_2 = [query.strip() for query in sql_queries if query.strip()]"
   ]
  },
  {
   "cell_type": "code",
   "execution_count": null,
   "metadata": {},
   "outputs": [],
   "source": [
    "for query in sql_queries_2:\n",
    "    time_start = process_time()\n",
    "    cursor.execute(query)\n",
    "    time_end = process_time()\n",
    "    result=time_end - time_start\n",
    "    times.append(result)"
   ]
  },
  {
   "cell_type": "code",
   "execution_count": null,
   "metadata": {},
   "outputs": [
    {
     "data": {
      "text/plain": [
       "[0.003132180000000151,\n",
       " 0.0004986599999998731,\n",
       " 0.00023679699999989978,\n",
       " 0.00014872900000018063,\n",
       " 0.00024438199999998744,\n",
       " 0.00015700400000007164,\n",
       " 0.0001728609999998021,\n",
       " 0.0001468500000001427,\n",
       " 0.00013696499999982237,\n",
       " 0.00014894200000004076,\n",
       " 0.0001648389999999722,\n",
       " 0.00014705000000025947,\n",
       " 0.00343913000000029,\n",
       " 0.001528626000000255,\n",
       " 0.0007730229999998173,\n",
       " 0.0004162160000000803,\n",
       " 0.003515939999999773,\n",
       " 0.0004798810000004039,\n",
       " 0.00026321400000028916,\n",
       " 0.0001863110000002166,\n",
       " 0.00037832600000031746,\n",
       " 0.00020346500000023582,\n",
       " 0.0001723920000000767,\n",
       " 0.0001447689999998225,\n",
       " 0.00014121399999966755,\n",
       " 0.00014164899999968839,\n",
       " 0.00015168500000006802,\n",
       " 0.00013882199999981637,\n",
       " 0.003674102000000179,\n",
       " 0.0015831510000001714,\n",
       " 0.000908941000000052,\n",
       " 0.0007158569999998754]"
      ]
     },
     "execution_count": 13,
     "metadata": {},
     "output_type": "execute_result"
    }
   ],
   "source": [
    "times"
   ]
  }
 ],
 "metadata": {
  "kernelspec": {
   "display_name": "Python 3",
   "language": "python",
   "name": "python3"
  },
  "language_info": {
   "codemirror_mode": {
    "name": "ipython",
    "version": 3
   },
   "file_extension": ".py",
   "mimetype": "text/x-python",
   "name": "python",
   "nbconvert_exporter": "python",
   "pygments_lexer": "ipython3",
   "version": "3.10.12"
  }
 },
 "nbformat": 4,
 "nbformat_minor": 2
}
