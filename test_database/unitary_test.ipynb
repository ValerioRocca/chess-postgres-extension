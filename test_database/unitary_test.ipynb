{
 "cells": [
  {
   "cell_type": "code",
   "execution_count": 71,
   "metadata": {},
   "outputs": [],
   "source": [
    "import psycopg2\n",
    "from time import process_time"
   ]
  },
  {
   "cell_type": "code",
   "execution_count": 72,
   "metadata": {},
   "outputs": [],
   "source": [
    "# To connect to a Postgres DB\n",
    "\n",
    "conn = psycopg2.connect(\n",
    "    host=\"localhost\",\n",
    "    #port=\"your_port\",\n",
    "    database=\"test_1\",\n",
    "    user=\"postgres\",\n",
    "    password=\"postgres\"\n",
    ")\n",
    "\n",
    "cursor = conn.cursor()\n",
    "conn.autocommit = True\n",
    "\n",
    "# List to store execution times\n",
    "times = []"
   ]
  },
  {
   "cell_type": "code",
   "execution_count": 73,
   "metadata": {},
   "outputs": [],
   "source": [
    "# Read the SQL file\n",
    "with open('/home/mcsalazart/Downloads/BDMA/Systems architecture/project/chess-postgres-extension- working/Unitary_test.sql', 'r') as file:\n",
    "    sql_content = file.read()\n",
    "\n",
    "# Split the SQL content into separate queries\n",
    "sql_queries = sql_content.split(';')\n",
    "\n",
    "# Remove empty strings or whitespace-only queries\n",
    "sql_queries = [query.strip() for query in sql_queries if query.strip()]"
   ]
  },
  {
   "cell_type": "code",
   "execution_count": 74,
   "metadata": {},
   "outputs": [
    {
     "name": "stdout",
     "output_type": "stream",
     "text": [
      "DROP INDEX IF EXISTS san_index\n",
      "0.0009332449999996939\n",
      "DROP TABLE IF EXISTS games_1 CASCADE\n",
      "0.00014203599999973449\n",
      "DROP EXTENSION IF EXISTS chess CASCADE\n",
      "0.000157747999999458\n",
      "--<---- to uncomment to run our extension\n",
      "\n",
      "CREATE EXTENSION chess\n",
      "0.0001563349999997854\n",
      "--<---- also this has to be uncommented\n",
      "\n",
      "CREATE TABLE games_1 (\n",
      "    id SERIAL PRIMARY KEY,\n",
      "    notation san,\n",
      "    player VARCHAR(255),\n",
      "    game_site VARCHAR(255)\n",
      ")\n",
      "0.00016715300000047506\n",
      "COPY games_1(notation, player, game_site)\n",
      "FROM '/home/mcsalazart/Downloads/BDMA/Systems architecture/project/test_database/csv_games_10.csv' DELIMITER ',' CSV HEADER\n",
      "0.0016611349999999803\n",
      "select *\n",
      "from games_1\n",
      "0.020986889999999647\n",
      "SELECT getBoard(notation, 3)\n",
      "FROM games_1\n",
      "WHERE  game_site = 'Palma de Mallorca'\n",
      "0.001198999999999728\n",
      "SELECT getFirstMoves(notation, 1)\n",
      "FROM games_1\n",
      "WHERE game_site = 'Leningrad'\n",
      "0.0001331599999998545\n",
      "SELECT count(*)\n",
      "FROM games_1\n",
      "WHERE hasOpening(notation, '1.e4 '::san)\n",
      "0.0015176690000000548\n",
      "SELECT count(*)\n",
      "FROM games_1\n",
      "WHERE hasOpening(notation, '1. Nf3 Nf6 2. c4 g6 3. Nc3 Bg7'::san)\n",
      "0.0019809449999996787\n",
      "SELECT count(*)\n",
      "from games_1\n",
      "where hasBoard(notation,'RNBQKBNR/PPPP1PPP/8/8/3P4/8/ppp1pppp/rnbqkbnr w KQkq - 0 1', 200)\n",
      "0.0018094299999997787\n",
      "CREATE INDEX IF NOT EXISTS san_index ON games_1(notation)\n",
      "0.0004428199999999549\n",
      "-- Consultas\n",
      "SET enable_seqscan TO OFF\n",
      "0.0001013109999998818\n",
      "SELECT count(*) FROM games_1  WHERE hasOpening(notation, '1.e4 '::san)\n",
      "0.001562090999999377\n",
      "SET enable_seqscan TO OFF\n",
      "0.0005860779999995458\n",
      "SELECT count(*) FROM games_1 WHERE hasOpening(notation, '1. Nf3 Nf6 2. c4 g6 3. Nc3 Bg7'::san)\n",
      "0.0012121380000005288\n"
     ]
    }
   ],
   "source": [
    "for query in sql_queries:\n",
    "    print(query)\n",
    "    time_start = process_time()\n",
    "    cursor.execute(query)\n",
    "    time_end = process_time()\n",
    "    result=time_end - time_start\n",
    "    print(result)\n",
    "    times.append(result)\n",
    "    "
   ]
  },
  {
   "cell_type": "code",
   "execution_count": 75,
   "metadata": {},
   "outputs": [
    {
     "data": {
      "text/plain": [
       "[0.0009332449999996939,\n",
       " 0.00014203599999973449,\n",
       " 0.000157747999999458,\n",
       " 0.0001563349999997854,\n",
       " 0.00016715300000047506,\n",
       " 0.0016611349999999803,\n",
       " 0.020986889999999647,\n",
       " 0.001198999999999728,\n",
       " 0.0001331599999998545,\n",
       " 0.0015176690000000548,\n",
       " 0.0019809449999996787,\n",
       " 0.0018094299999997787,\n",
       " 0.0004428199999999549,\n",
       " 0.0001013109999998818,\n",
       " 0.001562090999999377,\n",
       " 0.0005860779999995458,\n",
       " 0.0012121380000005288]"
      ]
     },
     "execution_count": 75,
     "metadata": {},
     "output_type": "execute_result"
    }
   ],
   "source": [
    "times"
   ]
  },
  {
   "cell_type": "code",
   "execution_count": null,
   "metadata": {},
   "outputs": [],
   "source": []
  }
 ],
 "metadata": {
  "kernelspec": {
   "display_name": "Python 3",
   "language": "python",
   "name": "python3"
  },
  "language_info": {
   "codemirror_mode": {
    "name": "ipython",
    "version": 3
   },
   "file_extension": ".py",
   "mimetype": "text/x-python",
   "name": "python",
   "nbconvert_exporter": "python",
   "pygments_lexer": "ipython3",
   "version": "3.10.12"
  }
 },
 "nbformat": 4,
 "nbformat_minor": 2
}
