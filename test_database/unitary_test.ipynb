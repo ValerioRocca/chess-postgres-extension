{
 "cells": [
  {
   "cell_type": "code",
   "execution_count": 45,
   "metadata": {},
   "outputs": [],
   "source": [
    "import psycopg2\n",
    "from time import process_time"
   ]
  },
  {
   "cell_type": "code",
   "execution_count": 46,
   "metadata": {},
   "outputs": [],
   "source": [
    "# To connect to a Postgres DB\n",
    "\n",
    "conn = psycopg2.connect(\n",
    "    host=\"localhost\",\n",
    "    #port=\"your_port\",\n",
    "    database=\"test_1\",\n",
    "    user=\"postgres\",\n",
    "    password=\"postgres\"\n",
    ")\n",
    "\n",
    "cursor = conn.cursor()\n",
    "conn.autocommit = True\n",
    "\n",
    "# List to store execution times\n",
    "times = []"
   ]
  },
  {
   "cell_type": "code",
   "execution_count": 47,
   "metadata": {},
   "outputs": [],
   "source": [
    "# Read the SQL file\n",
    "with open('/home/mcsalazart/Downloads/BDMA/Systems architecture/project/chess-postgres-extension/Unitary_test.sql', 'r') as file:\n",
    "    sql_content = file.read()\n",
    "\n",
    "# Split the SQL content into separate queries\n",
    "sql_queries = sql_content.split(';')\n",
    "\n",
    "# Remove empty strings or whitespace-only queries\n",
    "sql_queries = [query.strip() for query in sql_queries if query.strip()]"
   ]
  },
  {
   "cell_type": "code",
   "execution_count": 48,
   "metadata": {},
   "outputs": [
    {
     "name": "stdout",
     "output_type": "stream",
     "text": [
      "DROP INDEX IF EXISTS san_index\n",
      "0.0008459020000000095\n",
      "DROP TABLE IF EXISTS games_1 CASCADE\n",
      "0.00015411900000028567\n",
      "DROP EXTENSION IF EXISTS chess CASCADE\n",
      "0.00012798499999977508\n",
      "--<---- to uncomment to run our extension\n",
      "\n",
      "CREATE EXTENSION chess\n",
      "0.0007740580000001884\n",
      "--<---- also this has to be uncommented\n",
      "\n",
      "CREATE TABLE games_1 (\n",
      "    id SERIAL PRIMARY KEY,\n",
      "    notation san,\n",
      "    player VARCHAR(255),\n",
      "    game_site VARCHAR(255)\n",
      ")\n",
      "0.00017470299999988725\n",
      "COPY games_1(notation, player, game_site)\n",
      "FROM '/home/mcsalazart/Downloads/BDMA/Systems architecture/project/chess-postgres-extension/test_database/csv_games_10.csv' DELIMITER ',' CSV HEADER\n"
     ]
    },
    {
     "name": "stdout",
     "output_type": "stream",
     "text": [
      "0.001386841000000416\n",
      "select *\n",
      "from games_1\n",
      "0.008629763000000068\n",
      "SELECT getBoard(notation, 3)\n",
      "FROM games_1\n",
      "WHERE  game_site = 'Palma de Mallorca'\n",
      "0.00034841600000046213\n",
      "SELECT getFirstMoves(notation, 1)\n",
      "FROM games_1\n",
      "WHERE game_site = 'Leningrad'\n",
      "0.00010590700000001618\n",
      "SELECT count(*)\n",
      "FROM games_1\n",
      "WHERE hasOpening(notation, '1.e4 '::san)\n",
      "0.00014093400000003697\n",
      "SELECT count(*)\n",
      "FROM games_1\n",
      "WHERE hasOpening(notation, '1. Nf3 Nf6 2. c4 g6 3. Nc3 Bg7'::san)\n",
      "0.00014257100000047984\n",
      "SELECT count(*)\n",
      "from games_1\n",
      "where hasBoard(notation,'RNBQKBNR/PPPP1PPP/8/8/3P4/8/ppp1pppp/rnbqkbnr w KQkq - 0 1', 200)\n",
      "0.20770002799999965\n",
      "CREATE INDEX IF NOT EXISTS san_index ON games_1(notation)\n",
      "0.0004082810000003434\n",
      "-- Consultas\n",
      "SET enable_seqscan TO OFF\n",
      "9.465200000047247e-05\n",
      "SELECT count(*) FROM games_1  WHERE hasOpening(notation, '1.e4 '::san)\n",
      "0.00035877399999950654\n",
      "SET enable_seqscan TO OFF\n",
      "8.35479999992117e-05\n",
      "SELECT count(*) FROM games_1 WHERE hasOpening(notation, '1. Nf3 Nf6 2. c4 g6 3. Nc3 Bg7'::san)\n",
      "0.00011731599999986742\n"
     ]
    }
   ],
   "source": [
    "for query in sql_queries:\n",
    "    print(query)\n",
    "    time_start = process_time()\n",
    "    cursor.execute(query)\n",
    "    time_end = process_time()\n",
    "    result=time_end - time_start\n",
    "    print(result)\n",
    "    times.append(result)\n",
    "    "
   ]
  },
  {
   "cell_type": "code",
   "execution_count": 49,
   "metadata": {},
   "outputs": [
    {
     "data": {
      "text/plain": [
       "[0.0008459020000000095,\n",
       " 0.00015411900000028567,\n",
       " 0.00012798499999977508,\n",
       " 0.0007740580000001884,\n",
       " 0.00017470299999988725,\n",
       " 0.001386841000000416,\n",
       " 0.008629763000000068,\n",
       " 0.00034841600000046213,\n",
       " 0.00010590700000001618,\n",
       " 0.00014093400000003697,\n",
       " 0.00014257100000047984,\n",
       " 0.20770002799999965,\n",
       " 0.0004082810000003434,\n",
       " 9.465200000047247e-05,\n",
       " 0.00035877399999950654,\n",
       " 8.35479999992117e-05,\n",
       " 0.00011731599999986742]"
      ]
     },
     "execution_count": 49,
     "metadata": {},
     "output_type": "execute_result"
    }
   ],
   "source": [
    "times"
   ]
  },
  {
   "cell_type": "code",
   "execution_count": null,
   "metadata": {},
   "outputs": [],
   "source": []
  }
 ],
 "metadata": {
  "kernelspec": {
   "display_name": "Python 3",
   "language": "python",
   "name": "python3"
  },
  "language_info": {
   "codemirror_mode": {
    "name": "ipython",
    "version": 3
   },
   "file_extension": ".py",
   "mimetype": "text/x-python",
   "name": "python",
   "nbconvert_exporter": "python",
   "pygments_lexer": "ipython3",
   "version": "3.10.12"
  }
 },
 "nbformat": 4,
 "nbformat_minor": 2
}
