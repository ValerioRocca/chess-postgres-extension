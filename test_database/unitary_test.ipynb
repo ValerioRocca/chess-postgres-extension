{
 "cells": [
  {
   "cell_type": "code",
   "execution_count": 5,
   "metadata": {},
   "outputs": [],
   "source": [
    "import psycopg2\n",
    "from time import process_time"
   ]
  },
  {
   "cell_type": "code",
   "execution_count": 6,
   "metadata": {},
   "outputs": [],
   "source": [
    "# To connect to a Postgres DB\n",
    "\n",
    "conn = psycopg2.connect(\n",
    "    host=\"localhost\",\n",
    "    #port=\"your_port\",\n",
    "    database=\"test_1\",\n",
    "    user=\"postgres\",\n",
    "    password=\"postgres\"\n",
    ")\n",
    "\n",
    "cursor = conn.cursor()\n",
    "conn.autocommit = True\n",
    "\n",
    "# List to store execution times\n",
    "times = []"
   ]
  },
  {
   "cell_type": "code",
   "execution_count": 7,
   "metadata": {},
   "outputs": [],
   "source": [
    "# Read the SQL file\n",
    "with open('/home/mcsalazart/Downloads/BDMA/Systems architecture/project/chess-postgres-extension/Unitary_test.sql', 'r') as file:\n",
    "    sql_content = file.read()\n",
    "\n",
    "# Split the SQL content into separate queries\n",
    "sql_queries = sql_content.split(';')\n",
    "\n",
    "# Remove empty strings or whitespace-only queries\n",
    "sql_queries = [query.strip() for query in sql_queries if query.strip()]"
   ]
  },
  {
   "cell_type": "code",
   "execution_count": 8,
   "metadata": {},
   "outputs": [
    {
     "name": "stdout",
     "output_type": "stream",
     "text": [
      "DROP INDEX IF EXISTS san_index\n",
      "0.00026028100000008436\n",
      "DROP TABLE IF EXISTS games_1 CASCADE\n",
      "0.0005508430000000786\n",
      "DROP EXTENSION IF EXISTS chess CASCADE\n",
      "0.00042577299999990714\n",
      "--<---- to uncomment to run our extension\n",
      "\n",
      "CREATE EXTENSION chess\n",
      "0.000160771000000004\n",
      "--<---- also this has to be uncommented\n",
      "\n",
      "CREATE TABLE games_1 (\n",
      "    id SERIAL PRIMARY KEY,\n",
      "    notation san,\n",
      "    player VARCHAR(255),\n",
      "    game_site VARCHAR(255)\n",
      ")\n",
      "0.00012988800000002243\n",
      "COPY games_1(notation, player, game_site)\n",
      "FROM '/home/mcsalazart/Downloads/BDMA/Systems architecture/project/chess-postgres-extension/test_database/csv_games_100.csv' DELIMITER ',' CSV HEADER\n",
      "0.0015838459999999444\n",
      "select *\n",
      "from games_1\n",
      "0.018095482000000107\n",
      "SELECT getBoard(notation, 3)\n",
      "FROM games_1\n",
      "WHERE  game_site = 'Palma de Mallorca'\n",
      "0.0010409650000000603\n",
      "SELECT getFirstMoves(notation, 1)\n",
      "FROM games_1\n",
      "WHERE game_site = 'Leningrad'\n",
      "0.00013844699999987498\n",
      "SELECT count(*)\n",
      "FROM games_1\n",
      "WHERE hasOpening(notation, '1.e4 '::san)\n",
      "0.0010699060000001204\n",
      "SELECT count(*)\n",
      "FROM games_1\n",
      "WHERE hasOpening(notation, '1. Nf3 Nf6 2. c4 g6 3. Nc3 Bg7'::san)\n",
      "0.0017919480000001542\n",
      "SELECT count(*)\n",
      "from games_1\n",
      "where hasBoard(notation,'RNBQKBNR/PPPP1PPP/8/8/3P4/8/ppp1pppp/rnbqkbnr w KQkq - 0 1', 200)\n",
      "0.0016168110000003288\n",
      "CREATE INDEX IF NOT EXISTS san_index ON games_1(notation)\n",
      "0.0005077710000001012\n",
      "-- Consultas\n",
      "SET enable_seqscan TO OFF\n",
      "9.312499999980517e-05\n",
      "SELECT count(*) FROM games_1  WHERE hasOpening(notation, '1.e4 '::san)\n",
      "0.00126918999999992\n",
      "SET enable_seqscan TO OFF\n",
      "0.00043652100000013405\n",
      "SELECT count(*) FROM games_1 WHERE hasOpening(notation, '1. Nf3 Nf6 2. c4 g6 3. Nc3 Bg7'::san)\n",
      "0.0009586459999999519\n",
      "create index gin_san_games1 on games_1 using gin(notation gin_san)\n"
     ]
    },
    {
     "ename": "OperationalError",
     "evalue": "SSL SYSCALL error: EOF detected\n",
     "output_type": "error",
     "traceback": [
      "\u001b[0;31m---------------------------------------------------------------------------\u001b[0m",
      "\u001b[0;31mOperationalError\u001b[0m                          Traceback (most recent call last)",
      "Cell \u001b[0;32mIn[8], line 4\u001b[0m\n\u001b[1;32m      2\u001b[0m \u001b[38;5;28mprint\u001b[39m(query)\n\u001b[1;32m      3\u001b[0m time_start \u001b[38;5;241m=\u001b[39m process_time()\n\u001b[0;32m----> 4\u001b[0m \u001b[43mcursor\u001b[49m\u001b[38;5;241;43m.\u001b[39;49m\u001b[43mexecute\u001b[49m\u001b[43m(\u001b[49m\u001b[43mquery\u001b[49m\u001b[43m)\u001b[49m\n\u001b[1;32m      5\u001b[0m time_end \u001b[38;5;241m=\u001b[39m process_time()\n\u001b[1;32m      6\u001b[0m result\u001b[38;5;241m=\u001b[39mtime_end \u001b[38;5;241m-\u001b[39m time_start\n",
      "\u001b[0;31mOperationalError\u001b[0m: SSL SYSCALL error: EOF detected\n"
     ]
    }
   ],
   "source": [
    "for query in sql_queries:\n",
    "    print(query)\n",
    "    time_start = process_time()\n",
    "    cursor.execute(query)\n",
    "    time_end = process_time()\n",
    "    result=time_end - time_start\n",
    "    print(result)\n",
    "    times.append(result)\n",
    "    "
   ]
  },
  {
   "cell_type": "code",
   "execution_count": null,
   "metadata": {},
   "outputs": [
    {
     "data": {
      "text/plain": [
       "[0.0019324440000003662,\n",
       " 0.00015575399999967487,\n",
       " 0.00016560300000012518,\n",
       " 0.00015862499999919066,\n",
       " 0.00014419499999984708,\n",
       " 0.0017254610000003723,\n",
       " 0.014547134999999933,\n",
       " 0.0006551059999999609,\n",
       " 9.81869999998608e-05,\n",
       " 0.0009128189999998426,\n",
       " 0.0012623419999995278,\n",
       " 0.0017920069999997068,\n",
       " 0.000511942000000154,\n",
       " 0.00015566600000038733,\n",
       " 0.0013697189999994919,\n",
       " 0.0004887760000000796,\n",
       " 0.0012077079999999185]"
      ]
     },
     "execution_count": 68,
     "metadata": {},
     "output_type": "execute_result"
    }
   ],
   "source": [
    "times"
   ]
  },
  {
   "cell_type": "code",
   "execution_count": null,
   "metadata": {},
   "outputs": [],
   "source": []
  }
 ],
 "metadata": {
  "kernelspec": {
   "display_name": "Python 3",
   "language": "python",
   "name": "python3"
  },
  "language_info": {
   "codemirror_mode": {
    "name": "ipython",
    "version": 3
   },
   "file_extension": ".py",
   "mimetype": "text/x-python",
   "name": "python",
   "nbconvert_exporter": "python",
   "pygments_lexer": "ipython3",
   "version": "3.10.12"
  }
 },
 "nbformat": 4,
 "nbformat_minor": 2
}
